{
 "cells": [
  {
   "cell_type": "code",
   "execution_count": 21,
   "metadata": {},
   "outputs": [],
   "source": [
    "#Chapter 14:Data Science From Scratch\n",
    "\n",
    "from typing import Tuple\n",
    "from scratch.linear_algebra import Vector\n",
    "from scratch.statistics import correlation, standard_deviation, mean\n",
    "from scratch.statistics import num_friends_good, daily_minutes_good\n",
    "from scratch.statistics import de_mean"
   ]
  },
  {
   "cell_type": "code",
   "execution_count": 10,
   "metadata": {},
   "outputs": [],
   "source": [
    "def predict(alpha: float, beta: float, x_i: float) -> float:\n",
    "    return beta * x_i + alpha"
   ]
  },
  {
   "cell_type": "code",
   "execution_count": 11,
   "metadata": {},
   "outputs": [],
   "source": [
    "def error(alpha: float, beta: float, x_i: float, y_i: float) -> float:\n",
    "    '''\n",
    "    The error from predicting beta * x_i + alpha when the actual value is y_i\n",
    "    '''\n",
    "    return predict(alpha, beta, x_i) - y_i"
   ]
  },
  {
   "cell_type": "code",
   "execution_count": 12,
   "metadata": {},
   "outputs": [],
   "source": [
    "def sum_of_sqerrors(alpha: float, beta: float, x:Vector, y:Vector) -> float:\n",
    "    return sum(error(alpha, beta, x_i, y_i) ** 2\n",
    "              for x_i, y_i in zip(x,y))"
   ]
  },
  {
   "cell_type": "code",
   "execution_count": 15,
   "metadata": {},
   "outputs": [],
   "source": [
    "def least_squares_fit(x: Vector, y: Vector) -> Tuple[float,float]:\n",
    "    '''\n",
    "    Given two vectors x and y, find the least-squares value of alpha and beta\n",
    "    '''\n",
    "    beta=correlation(x,y) * standard_deviation(y)/standard_deviation(x)\n",
    "    alpha=mean(y)-beta*mean(x)\n",
    "    return alpha,beta"
   ]
  },
  {
   "cell_type": "code",
   "execution_count": 16,
   "metadata": {},
   "outputs": [],
   "source": [
    "x=[i for i in range(-11,110,10)]\n",
    "y=[3*i-5 for i in x]\n",
    "\n",
    "#should find that y=3x-5\n",
    "assert least_squares_fit(x,y) == (-5,3)"
   ]
  },
  {
   "cell_type": "code",
   "execution_count": 20,
   "metadata": {},
   "outputs": [
    {
     "data": {
      "text/plain": [
       "(22.94755241346903, 0.903865945605865)"
      ]
     },
     "execution_count": 20,
     "metadata": {},
     "output_type": "execute_result"
    }
   ],
   "source": [
    "alpha,beta=least_squares_fit(num_friends_good, daily_minutes_good)\n",
    "assert 22.9 <alpha <23.0\n",
    "assert 0.9  <beta  <0.905\n",
    "alpha, beta"
   ]
  },
  {
   "cell_type": "code",
   "execution_count": 22,
   "metadata": {},
   "outputs": [],
   "source": [
    "def total_sum_of_squares(y: Vector) -> float:\n",
    "    '''\n",
    "    the total squared variation of y_y's from their mean\n",
    "    '''\n",
    "    return sum(v**2 for v in de_mean(y))"
   ]
  },
  {
   "cell_type": "code",
   "execution_count": 24,
   "metadata": {},
   "outputs": [],
   "source": [
    "def r_squared(alpha: float, beta: float, x: Vector, y: Vector) -> float:\n",
    "    '''\n",
    "    the fraction of variation in y captured by the model, which equals\n",
    "    1 - the fraction of variation in y not captured by the model\n",
    "    '''\n",
    "    return 1.0 - (sum_of_sqerrors(alpha,beta,x,y)/total_sum_of_squares(y))"
   ]
  },
  {
   "cell_type": "code",
   "execution_count": 25,
   "metadata": {},
   "outputs": [],
   "source": [
    "rsq=r_squared(alpha, beta, num_friends_good, daily_minutes_good)\n",
    "assert 0.328<rsq<0.330"
   ]
  },
  {
   "cell_type": "code",
   "execution_count": 26,
   "metadata": {},
   "outputs": [],
   "source": [
    "import random\n",
    "import tqdm\n",
    "from scratch.gradient_descent import gradient_step"
   ]
  },
  {
   "cell_type": "code",
   "execution_count": 29,
   "metadata": {},
   "outputs": [
    {
     "name": "stderr",
     "output_type": "stream",
     "text": [
      "loss: 13196.619: 100%|██████████████████████████████████████████████████████████| 10000/10000 [00:11<00:00, 877.98it/s]\n"
     ]
    }
   ],
   "source": [
    "num_epochs=10000\n",
    "random.seed(0)\n",
    "\n",
    "guess=[random.random(), random.random()] #choose random value to start\n",
    "learning_rate=0.00001\n",
    "\n",
    "with tqdm.trange(num_epochs) as t:\n",
    "    for _ in t:\n",
    "        alpha, beta = guess\n",
    "        \n",
    "        #partial derivative of loss with respect to alpha\n",
    "        grad_a = sum(2*error(alpha, beta, x_i, y_i)\n",
    "                    for x_i, y_i in zip(num_friends_good,\n",
    "                                       daily_minutes_good))\n",
    "        \n",
    "        #partial derivative of loss with respect to beta\n",
    "        grad_b = sum(2*error(alpha, beta, x_i, y_i) * x_i\n",
    "                    for x_i, y_i in zip(num_friends_good,\n",
    "                                       daily_minutes_good))\n",
    "        \n",
    "        #compute loss to stick in the tqdm description\n",
    "        loss = sum_of_sqerrors(alpha, beta,\n",
    "                               num_friends_good, daily_minutes_good)\n",
    "        t.set_description(f\"loss: {loss:.3f}\")\n",
    "        \n",
    "        #finally, update the guess\n",
    "        guess = gradient_step(guess, [grad_a, grad_b], -learning_rate)\n"
   ]
  },
  {
   "cell_type": "code",
   "execution_count": 30,
   "metadata": {},
   "outputs": [
    {
     "data": {
      "text/plain": [
       "(22.947552155340915, 0.9038659662765034)"
      ]
     },
     "execution_count": 30,
     "metadata": {},
     "output_type": "execute_result"
    }
   ],
   "source": [
    "alpha, beta = guess\n",
    "assert 22.0 < alpha < 23.0\n",
    "assert 0.9 < beta < 0.905\n",
    "\n",
    "alpha, beta"
   ]
  },
  {
   "cell_type": "code",
   "execution_count": null,
   "metadata": {},
   "outputs": [],
   "source": []
  }
 ],
 "metadata": {
  "kernelspec": {
   "display_name": "Python 3",
   "language": "python",
   "name": "python3"
  },
  "language_info": {
   "codemirror_mode": {
    "name": "ipython",
    "version": 3
   },
   "file_extension": ".py",
   "mimetype": "text/x-python",
   "name": "python",
   "nbconvert_exporter": "python",
   "pygments_lexer": "ipython3",
   "version": "3.7.4"
  }
 },
 "nbformat": 4,
 "nbformat_minor": 2
}
